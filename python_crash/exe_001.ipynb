{
 "cells": [
  {
   "cell_type": "code",
   "execution_count": 36,
   "id": "0f9ede5e",
   "metadata": {},
   "outputs": [],
   "source": [
    "def square(num):\n",
    "    return num**2"
   ]
  },
  {
   "cell_type": "code",
   "execution_count": 2,
   "id": "957e62e5",
   "metadata": {},
   "outputs": [
    {
     "data": {
      "text/plain": [
       "4"
      ]
     },
     "execution_count": 2,
     "metadata": {},
     "output_type": "execute_result"
    }
   ],
   "source": [
    "square(2)"
   ]
  },
  {
   "cell_type": "code",
   "execution_count": 69,
   "id": "0f325c4e",
   "metadata": {},
   "outputs": [],
   "source": [
    "lst = [1,2,3,4,5,6]"
   ]
  },
  {
   "cell_type": "code",
   "execution_count": 5,
   "id": "6e3bde39",
   "metadata": {
    "collapsed": true
   },
   "outputs": [
    {
     "name": "stdout",
     "output_type": "stream",
     "text": [
      "new\n",
      "new\n",
      "new\n",
      "new\n",
      "new\n",
      "new\n"
     ]
    }
   ],
   "source": [
    "for i in lst:\n",
    "    print('new')"
   ]
  },
  {
   "cell_type": "code",
   "execution_count": 32,
   "id": "b26d7690",
   "metadata": {},
   "outputs": [],
   "source": [
    "new = (i**2 for i in lst)"
   ]
  },
  {
   "cell_type": "code",
   "execution_count": 33,
   "id": "7c9f33e6",
   "metadata": {},
   "outputs": [
    {
     "data": {
      "text/plain": [
       "[1, 4, 9, 16, 25, 36]"
      ]
     },
     "execution_count": 33,
     "metadata": {},
     "output_type": "execute_result"
    }
   ],
   "source": [
    "list(new)"
   ]
  },
  {
   "cell_type": "code",
   "execution_count": 46,
   "id": "15545cdd",
   "metadata": {},
   "outputs": [],
   "source": [
    "# This is an alternative route to declare functions\n",
    "mapList = list(map(lambda num: num**2,lst))"
   ]
  },
  {
   "cell_type": "code",
   "execution_count": 42,
   "id": "0bf9a136",
   "metadata": {},
   "outputs": [],
   "source": [
    "# The built-in filter function"
   ]
  },
  {
   "cell_type": "code",
   "execution_count": 48,
   "id": "183807e2",
   "metadata": {},
   "outputs": [
    {
     "data": {
      "text/plain": [
       "[4, 16, 36]"
      ]
     },
     "execution_count": 48,
     "metadata": {},
     "output_type": "execute_result"
    }
   ],
   "source": [
    "# This filters the even numbers of a list\n",
    "list(filter(lambda num: num%2 == 0,  mapList))"
   ]
  },
  {
   "cell_type": "code",
   "execution_count": 49,
   "id": "7c41ed4b",
   "metadata": {},
   "outputs": [],
   "source": [
    "# string splitting "
   ]
  },
  {
   "cell_type": "code",
   "execution_count": 60,
   "id": "2a7fee66",
   "metadata": {},
   "outputs": [],
   "source": [
    "tweet = \"Hello everybody Lasisi is again. Something just happen right now! #SOS\""
   ]
  },
  {
   "cell_type": "code",
   "execution_count": 63,
   "id": "9f01559c",
   "metadata": {},
   "outputs": [
    {
     "data": {
      "text/plain": [
       "'Hello everybody Lasisi is again. Something just happen right now! '"
      ]
     },
     "execution_count": 63,
     "metadata": {},
     "output_type": "execute_result"
    }
   ],
   "source": [
    "# split a particular element from the others\n",
    "tweet.split('#')[0]"
   ]
  },
  {
   "cell_type": "code",
   "execution_count": 64,
   "id": "2c41077e",
   "metadata": {},
   "outputs": [],
   "source": [
    "d = {'k1': 1, 'k2': 2, 'k3':3}"
   ]
  },
  {
   "cell_type": "code",
   "execution_count": 66,
   "id": "b1af486d",
   "metadata": {},
   "outputs": [
    {
     "data": {
      "text/plain": [
       "dict_keys(['k1', 'k2', 'k3'])"
      ]
     },
     "execution_count": 66,
     "metadata": {},
     "output_type": "execute_result"
    }
   ],
   "source": [
    "d.keys()"
   ]
  },
  {
   "cell_type": "code",
   "execution_count": 67,
   "id": "6d8e7b98",
   "metadata": {},
   "outputs": [
    {
     "data": {
      "text/plain": [
       "dict_values([1, 2, 3])"
      ]
     },
     "execution_count": 67,
     "metadata": {},
     "output_type": "execute_result"
    }
   ],
   "source": [
    "d.values()"
   ]
  },
  {
   "cell_type": "code",
   "execution_count": 70,
   "id": "67db6aab",
   "metadata": {},
   "outputs": [
    {
     "data": {
      "text/plain": [
       "6"
      ]
     },
     "execution_count": 70,
     "metadata": {},
     "output_type": "execute_result"
    }
   ],
   "source": [
    "lst.pop()"
   ]
  },
  {
   "cell_type": "code",
   "execution_count": 71,
   "id": "56ba2ba6",
   "metadata": {},
   "outputs": [
    {
     "data": {
      "text/plain": [
       "[1, 2, 3, 4, 5]"
      ]
     },
     "execution_count": 71,
     "metadata": {},
     "output_type": "execute_result"
    }
   ],
   "source": [
    "lst"
   ]
  },
  {
   "cell_type": "code",
   "execution_count": 72,
   "id": "1f61b204",
   "metadata": {},
   "outputs": [
    {
     "data": {
      "text/plain": [
       "5"
      ]
     },
     "execution_count": 72,
     "metadata": {},
     "output_type": "execute_result"
    }
   ],
   "source": [
    "#removes the last member of the list\n",
    "lst.pop()"
   ]
  },
  {
   "cell_type": "code",
   "execution_count": 73,
   "id": "784661e6",
   "metadata": {},
   "outputs": [
    {
     "data": {
      "text/plain": [
       "[1, 2, 3, 4]"
      ]
     },
     "execution_count": 73,
     "metadata": {},
     "output_type": "execute_result"
    }
   ],
   "source": [
    "lst"
   ]
  },
  {
   "cell_type": "code",
   "execution_count": 74,
   "id": "7ae6e72a",
   "metadata": {},
   "outputs": [],
   "source": [
    "#Reverse or technical undo would be\n",
    "lst.append(5)"
   ]
  },
  {
   "cell_type": "code",
   "execution_count": 75,
   "id": "c832c12f",
   "metadata": {},
   "outputs": [
    {
     "data": {
      "text/plain": [
       "[1, 2, 3, 4, 5]"
      ]
     },
     "execution_count": 75,
     "metadata": {},
     "output_type": "execute_result"
    }
   ],
   "source": [
    "lst"
   ]
  },
  {
   "cell_type": "code",
   "execution_count": 76,
   "id": "1f254288",
   "metadata": {},
   "outputs": [],
   "source": [
    "#tupple unpacking\n",
    "x = [(1,2,), (3,4), (5,6)]"
   ]
  },
  {
   "cell_type": "code",
   "execution_count": 77,
   "id": "57fe20f0",
   "metadata": {},
   "outputs": [
    {
     "name": "stdout",
     "output_type": "stream",
     "text": [
      "(1, 2)\n",
      "(3, 4)\n",
      "(5, 6)\n"
     ]
    }
   ],
   "source": [
    "#Normal loop\n",
    "for items in x:\n",
    "    print(items) "
   ]
  },
  {
   "cell_type": "code",
   "execution_count": 78,
   "id": "bfef3979",
   "metadata": {},
   "outputs": [
    {
     "name": "stdout",
     "output_type": "stream",
     "text": [
      "1\n",
      "3\n",
      "5\n"
     ]
    }
   ],
   "source": [
    "# tuple unpacking\n",
    "for a,b in x:\n",
    "    print(a)"
   ]
  },
  {
   "cell_type": "code",
   "execution_count": 85,
   "id": "30a5d5d6",
   "metadata": {},
   "outputs": [
    {
     "name": "stdout",
     "output_type": "stream",
     "text": [
      "2\n",
      "4\n",
      "6\n"
     ]
    }
   ],
   "source": [
    "# tuple unpacking\n",
    "for a,b in x:\n",
    "    print(b)"
   ]
  },
  {
   "cell_type": "code",
   "execution_count": 86,
   "id": "99442e28",
   "metadata": {},
   "outputs": [
    {
     "name": "stdout",
     "output_type": "stream",
     "text": [
      "1 2\n",
      "3 4\n",
      "5 6\n"
     ]
    }
   ],
   "source": [
    "# tuple unpacking\n",
    "for a,b in x:\n",
    "    print(a,b)"
   ]
  },
  {
   "cell_type": "markdown",
   "id": "33868560",
   "metadata": {},
   "source": [
    "# Exercice"
   ]
  },
  {
   "cell_type": "code",
   "execution_count": 88,
   "id": "131a0a2e",
   "metadata": {},
   "outputs": [
    {
     "data": {
      "text/plain": [
       "2401"
      ]
     },
     "execution_count": 88,
     "metadata": {},
     "output_type": "execute_result"
    }
   ],
   "source": [
    "7**4"
   ]
  },
  {
   "cell_type": "code",
   "execution_count": 89,
   "id": "9b256b7f",
   "metadata": {},
   "outputs": [],
   "source": [
    "s = \"Hi there Sam!\""
   ]
  },
  {
   "cell_type": "code",
   "execution_count": 95,
   "id": "eb64647c",
   "metadata": {},
   "outputs": [
    {
     "data": {
      "text/plain": [
       "['Hi', 'there', 'Sam!']"
      ]
     },
     "execution_count": 95,
     "metadata": {},
     "output_type": "execute_result"
    }
   ],
   "source": [
    "s.split()"
   ]
  },
  {
   "cell_type": "code",
   "execution_count": null,
   "id": "c7cab430",
   "metadata": {},
   "outputs": [],
   "source": [
    "# Q2"
   ]
  },
  {
   "cell_type": "code",
   "execution_count": 91,
   "id": "8d451e2a",
   "metadata": {},
   "outputs": [],
   "source": [
    "planet = \"Earth\"\n",
    "diameter = 12742"
   ]
  },
  {
   "cell_type": "code",
   "execution_count": 93,
   "id": "b7201a60",
   "metadata": {},
   "outputs": [
    {
     "name": "stdout",
     "output_type": "stream",
     "text": [
      "The diameter of the Earth is 12742 kilometers\n"
     ]
    }
   ],
   "source": [
    "print('The diameter of the {} is {} kilometers'.format(planet,diameter))"
   ]
  },
  {
   "cell_type": "code",
   "execution_count": 94,
   "id": "4d231dc1",
   "metadata": {},
   "outputs": [
    {
     "name": "stdout",
     "output_type": "stream",
     "text": [
      "The diameter of the Earth is 12742 kilometers\n"
     ]
    }
   ],
   "source": [
    "print(f'The diameter of the {planet} is {diameter} kilometers')"
   ]
  },
  {
   "cell_type": "code",
   "execution_count": 96,
   "id": "a0870979",
   "metadata": {},
   "outputs": [],
   "source": [
    "#Q3\n",
    "# Grab 'Hello'"
   ]
  },
  {
   "cell_type": "code",
   "execution_count": 97,
   "id": "1982aa0f",
   "metadata": {},
   "outputs": [],
   "source": [
    "lst = [1,2,[3,4],[5,[100,200,['hello']],23,11],1,7]"
   ]
  },
  {
   "cell_type": "code",
   "execution_count": 103,
   "id": "b5b3870f",
   "metadata": {},
   "outputs": [
    {
     "data": {
      "text/plain": [
       "'hello'"
      ]
     },
     "execution_count": 103,
     "metadata": {},
     "output_type": "execute_result"
    }
   ],
   "source": [
    "lst[3][1][2][0]"
   ]
  },
  {
   "cell_type": "code",
   "execution_count": null,
   "id": "fac1a5f0",
   "metadata": {},
   "outputs": [],
   "source": [
    "#Q4\n",
    "# grab 'Hello'"
   ]
  },
  {
   "cell_type": "code",
   "execution_count": 125,
   "id": "5458e777",
   "metadata": {},
   "outputs": [],
   "source": [
    "d = {'k1':[1,2,3,{'tricky':['oh', 'man', 'inception', {'target':[1,2,3,'hello']}]}]}"
   ]
  },
  {
   "cell_type": "code",
   "execution_count": 133,
   "id": "7d71adf2",
   "metadata": {},
   "outputs": [
    {
     "data": {
      "text/plain": [
       "'hello'"
      ]
     },
     "execution_count": 133,
     "metadata": {},
     "output_type": "execute_result"
    }
   ],
   "source": [
    "d['k1'][3]['tricky'][3]['target'][3]"
   ]
  },
  {
   "cell_type": "code",
   "execution_count": 134,
   "id": "192a6682",
   "metadata": {},
   "outputs": [],
   "source": [
    "#Q3\n",
    "# grab the email website domain from a string in the form"
   ]
  },
  {
   "cell_type": "code",
   "execution_count": 139,
   "id": "a76aa2d8",
   "metadata": {},
   "outputs": [],
   "source": [
    "def grab_mail(email):\n",
    "    ryt = email.split('@')[1]\n",
    "    return ryt"
   ]
  },
  {
   "cell_type": "code",
   "execution_count": null,
   "id": "c0abbd8d",
   "metadata": {},
   "outputs": [],
   "source": [
    "# Alternatively"
   ]
  },
  {
   "cell_type": "code",
   "execution_count": 143,
   "id": "fe07c665",
   "metadata": {},
   "outputs": [],
   "source": [
    "def grab_mail(email):\n",
    "    return email.split('@')[1]"
   ]
  },
  {
   "cell_type": "code",
   "execution_count": 144,
   "id": "e7a6304f",
   "metadata": {},
   "outputs": [
    {
     "data": {
      "text/plain": [
       "'gmail.com'"
      ]
     },
     "execution_count": 144,
     "metadata": {},
     "output_type": "execute_result"
    }
   ],
   "source": [
    "grab_mail('olusholasalau@gmail.com')"
   ]
  },
  {
   "cell_type": "code",
   "execution_count": 146,
   "id": "ce6821ec",
   "metadata": {},
   "outputs": [],
   "source": [
    "#Q4\n",
    "# Return true if the word 'dog' is contained in the input string."
   ]
  },
  {
   "cell_type": "code",
   "execution_count": 174,
   "id": "b6007d57",
   "metadata": {},
   "outputs": [],
   "source": [
    "def findDog(text):\n",
    "    return 'dog' in text.lower().split()"
   ]
  },
  {
   "cell_type": "code",
   "execution_count": 175,
   "id": "4af08ee3",
   "metadata": {},
   "outputs": [
    {
     "data": {
      "text/plain": [
       "True"
      ]
     },
     "execution_count": 175,
     "metadata": {},
     "output_type": "execute_result"
    }
   ],
   "source": [
    "findDog('Is there a DOG here?')"
   ]
  },
  {
   "cell_type": "code",
   "execution_count": null,
   "id": "7ffcd508",
   "metadata": {},
   "outputs": [],
   "source": [
    "#Q5\n",
    "#Create a function that counts the number the number of times the word 'dog' occurs in a string"
   ]
  },
  {
   "cell_type": "code",
   "execution_count": 182,
   "id": "3b197c29",
   "metadata": {},
   "outputs": [],
   "source": [
    "def countDog(text):\n",
    "    count = 0\n",
    "    for i in text.lower().split():\n",
    "        if i == 'dog':\n",
    "            count += 1\n",
    "    return count"
   ]
  },
  {
   "cell_type": "code",
   "execution_count": 183,
   "id": "55ed26a0",
   "metadata": {},
   "outputs": [
    {
     "data": {
      "text/plain": [
       "2"
      ]
     },
     "execution_count": 183,
     "metadata": {},
     "output_type": "execute_result"
    }
   ],
   "source": [
    "countDog('This dog runs faster thatn the other dog in our street!')"
   ]
  },
  {
   "cell_type": "code",
   "execution_count": null,
   "id": "4525a595",
   "metadata": {},
   "outputs": [],
   "source": [
    "#Q6\n",
    "# Use lambda expressions and the filter() function to filter out words from a list that don't start with the letters 's'."
   ]
  },
  {
   "cell_type": "code",
   "execution_count": 191,
   "id": "03119b7c",
   "metadata": {},
   "outputs": [],
   "source": [
    "seq = ['soup', 'dog', 'salad', 'cat', 'great']"
   ]
  },
  {
   "cell_type": "code",
   "execution_count": 192,
   "id": "b7308b5d",
   "metadata": {},
   "outputs": [
    {
     "data": {
      "text/plain": [
       "['soup', 'salad']"
      ]
     },
     "execution_count": 192,
     "metadata": {},
     "output_type": "execute_result"
    }
   ],
   "source": [
    "list(filter(lambda s: s[0] == 's', seq))"
   ]
  },
  {
   "cell_type": "code",
   "execution_count": 193,
   "id": "9b253e1b",
   "metadata": {},
   "outputs": [],
   "source": [
    "#Q7\n",
    "# You are driving a little too fast, and a police officer stops you. Write a function to return one of 3 possible \n",
    "# results: \"No ticket\", \"Small ticket\", or \"Big ticket\". \n",
    "# If your speed is 60 or less, the result is \"No ticket\".\n",
    "# if the speed is btw 61 and 80 inclusive, the result is \"small ticket\".\n",
    "# If speed is 81 or more, the result is \"Big ticket\". Unless it is your birthday (encoded as a boolean value in the parameter of the function)\n",
    "# -- on your birthday, your speed can be 5 higher in all cases."
   ]
  },
  {
   "cell_type": "code",
   "execution_count": 194,
   "id": "1737d16d",
   "metadata": {},
   "outputs": [],
   "source": [
    "r1 = 'No ticket'\n",
    "r2 = 'Small ticket'\n",
    "r3 = 'Big ticket'"
   ]
  },
  {
   "cell_type": "code",
   "execution_count": 196,
   "id": "bfcfd0c9",
   "metadata": {},
   "outputs": [],
   "source": [
    "def caught_speeding(speed, is_birthday = True):\n",
    "    pass"
   ]
  },
  {
   "cell_type": "code",
   "execution_count": 200,
   "id": "b9cb9f0b",
   "metadata": {},
   "outputs": [],
   "source": [
    "def caught_speeding(speed, is_birthday = False):\n",
    "    if speed <= 60:\n",
    "        print('No Ticket')\n",
    "    elif speed == range(61,80):\n",
    "        print('Small Ticket')\n",
    "    elif speed >= 81:\n",
    "        print('Big Ticket')"
   ]
  },
  {
   "cell_type": "code",
   "execution_count": 204,
   "id": "bcd20aac",
   "metadata": {},
   "outputs": [
    {
     "name": "stdout",
     "output_type": "stream",
     "text": [
      "No Ticket\n"
     ]
    }
   ],
   "source": [
    "caught_speeding(50, True)"
   ]
  },
  {
   "cell_type": "code",
   "execution_count": null,
   "id": "c05d58c4",
   "metadata": {},
   "outputs": [],
   "source": []
  }
 ],
 "metadata": {
  "kernelspec": {
   "display_name": "Python 3 (ipykernel)",
   "language": "python",
   "name": "python3"
  },
  "language_info": {
   "codemirror_mode": {
    "name": "ipython",
    "version": 3
   },
   "file_extension": ".py",
   "mimetype": "text/x-python",
   "name": "python",
   "nbconvert_exporter": "python",
   "pygments_lexer": "ipython3",
   "version": "3.9.15"
  }
 },
 "nbformat": 4,
 "nbformat_minor": 5
}
